{
 "cells": [
  {
   "cell_type": "markdown",
   "metadata": {},
   "source": [
    "# LDA Parameter tuning \n",
    "\n",
    "Topic modeling is tricky, it is quite easy for a model to returns redundant topics, or topics with little to no meaning. We already know that it is important to feed the algorithm relevant data. But we haven't yet considered the importance of hyper-parameters (`alpha`, `eta`, `num_topics`, etc). These hyper-parameters greatly affect the outcome of the LDA algorithm. \n",
    "\n",
    "Our objective here is to generate the best possible general topic model on the elzée dataset. General topic model meaning covering all aspects of the dataset. For this model we have two possible candidates:\n",
    " 1. Model $X$: model where we consider each document as a tweet and all 900 000 tweets are entered into the Document-Term matrix.\n",
    " 2. Model $Y$: model for the last level of the community tree at the last timestamp.\n",
    " \n",
    "To find which model is best, we want to find out which model returns the highest coherence score. The coherence score is a number between 0 and 1. Basically, the closer it is to 1, the better the model.\n",
    "\n",
    "We want to find the optimal hyper-parameters for each model in order to obtain their highest possible coherence scores. \n",
    "\n",
    "In order to optimize these hyper-parameters, we devise a set of tests (performed on both possible models):\n",
    "\n",
    "1. The first round of tests concerns `iterations` and `passes`. gensim suggests the follwing to choose: \"First, enable logging, and set `eval_every = 1` in `LdaMulticore()`. When training the model look for a line in the log that looks something like this: \n",
    "\n",
    "    `2016-06-21 15:40:06,753 - gensim.models.ldamodel - DEBUG - 68/1566 documents converged within 400 iterations`\n",
    "\n",
    "    If you set passes to 20 you will see this line 20 times. Make sure that by the final passes, most of the documents have converged. So you want to choose both passes and iterations to be high enough for this to happen.\"\n",
    "\n",
    "    In our case, `passes=10` and `iterations=250` did the job for both models. As this involves looking at the log, there is no detailed code for this test.\n",
    "    \n",
    "    \n",
    "2. The second round of tests concerns `num_topics`, `alpha` and `eta`. See <b>elyzeeTopicModeling.ipynb</b> for more details on these hyper-parameters. We devise a set of possible values for each hyper-parameter. We generate a model for each case and then calculate the coherence score. This of course is done for both possible models $X$ and $Y$. Let's dive into the code to explain further.\n"
   ]
  },
  {
   "cell_type": "markdown",
   "metadata": {},
   "source": [
    "***\n",
    "\n",
    "  ## <b>1.</b> <a href=\"#1\">Model $X$</a>\n",
    " \n",
    " ### &nbsp;&nbsp;&nbsp;&nbsp;&nbsp;&nbsp; <b>1.1.</b>  <a href=\"#1-1\">Run tests function for model $X$</a>\n",
    " \n",
    " ### &nbsp;&nbsp;&nbsp;&nbsp;&nbsp;&nbsp; <b>1.2.</b> <a href=\"#1-2\">Run tests for model $X$</a>\n",
    " \n",
    " ### &nbsp;&nbsp;&nbsp;&nbsp;&nbsp;&nbsp; <b>1.3.</b> <a href=\"#1-3\">Plot model $X$ tests results</a>\n",
    "\n",
    " ### &nbsp;&nbsp;&nbsp;&nbsp;&nbsp;&nbsp; <b>1.4.</b> <a href=\"#1-4\">Help deciding what values of `alpha` and `eta` to use\n",
    "</a>\n",
    "\n",
    "## <b>2.</b> <a href=\"#2\">Model $Y$</a>\n",
    " \n",
    " ### &nbsp;&nbsp;&nbsp;&nbsp;&nbsp;&nbsp; <b>2.1.</b>  <a href=\"#2-1\">Run tests function for model $Y$</a>\n",
    " \n",
    " ### &nbsp;&nbsp;&nbsp;&nbsp;&nbsp;&nbsp; <b>2.2.</b> <a href=\"#1-2\">Run tests for model $Y$</a>\n",
    " \n",
    " ### &nbsp;&nbsp;&nbsp;&nbsp;&nbsp;&nbsp; <b>2.3.</b> <a href=\"#2-3\">Plot model $Y$ tests results</a>\n",
    "\n",
    " ### &nbsp;&nbsp;&nbsp;&nbsp;&nbsp;&nbsp; <b>2.4.</b> <a href=\"#2-4\">Help deciding what values of `alpha` and `eta` to use\n",
    "</a>\n",
    "\n",
    "## <b>3.</b> <a href=\"#3\">Final comparisons and conclusion</a>\n"
   ]
  },
  {
   "cell_type": "markdown",
   "metadata": {},
   "source": [
    "# Necessary libraries"
   ]
  },
  {
   "cell_type": "code",
   "execution_count": 1,
   "metadata": {},
   "outputs": [],
   "source": [
    "import json\n",
    "import pickle\n",
    "import re\n",
    "\n",
    "# removing stopwords from tweets\n",
    "from gensim.parsing.preprocessing import preprocess_string, STOPWORDS\n",
    "from stop_words import get_stop_words\n",
    "\n",
    "# for comparing dates\n",
    "from datetime import datetime\n",
    "\n",
    "# gensim\n",
    "from gensim import corpora, models, similarities\n",
    "from gensim import models\n",
    "import pyLDAvis\n",
    "import pyLDAvis.gensim\n",
    "from gensim.summarization import keywords\n",
    "\n",
    "# parameter tuning\n",
    "from gensim.models import CoherenceModel\n",
    "from collections import defaultdict \n",
    "import numpy as np\n",
    "import matplotlib.pyplot as plt\n",
    "\n",
    "# word clouds\n",
    "from wordcloud import WordCloud"
   ]
  },
  {
   "cell_type": "code",
   "execution_count": 2,
   "metadata": {},
   "outputs": [],
   "source": [
    "# ignore warnings\n",
    "import warnings\n",
    "warnings.filterwarnings(\"ignore\")"
   ]
  },
  {
   "cell_type": "markdown",
   "metadata": {},
   "source": [
    "# Import main notebook\n"
   ]
  },
  {
   "cell_type": "code",
   "execution_count": 3,
   "metadata": {},
   "outputs": [],
   "source": [
    "from ipynb.fs.full.elyzeeTopicModeling import *"
   ]
  },
  {
   "cell_type": "markdown",
   "metadata": {},
   "source": [
    "# Compute coherence score function"
   ]
  },
  {
   "cell_type": "code",
   "execution_count": 4,
   "metadata": {},
   "outputs": [],
   "source": [
    "def computeCoherenceScore(model,ppDocs,dictionary):\n",
    "    \"\"\"\n",
    "    \n",
    "    model (gensim.models.ldamulticore.LdaMulticore): model for which we want the cs\n",
    "    ppComsDict (dict): preprocessed communities\n",
    "    dictionary (gensim.corpora.dictionary.Dictionary): model dictionary\n",
    "    \n",
    "    returns coherence score for model\n",
    "    \"\"\"\n",
    "    if type(ppDocs) == dict:\n",
    "        ppDocs = [[item for sublist in tweets for item in sublist] for tweets in list(ppDocs.values())]\n",
    "    \n",
    "    coherenceModel = CoherenceModel(model=model, texts=ppDocs, dictionary=dictionary, coherence='c_v')\n",
    "    coherenceScore = coherenceModel.get_coherence()\n",
    "    \n",
    "    return coherenceScore"
   ]
  },
  {
   "cell_type": "markdown",
   "metadata": {},
   "source": [
    "# 1. Model $X$\n",
    "<div id=\"1\"></div>"
   ]
  },
  {
   "cell_type": "markdown",
   "metadata": {},
   "source": [
    "## 1.1. Run tests function for model $X$\n",
    "<div id=\"1-1\"></div>"
   ]
  },
  {
   "cell_type": "code",
   "execution_count": 6,
   "metadata": {},
   "outputs": [],
   "source": [
    "# Utiliy function to create multi-dimensional dictionary \n",
    "def multi_dict(K, type): \n",
    "    if K == 1: \n",
    "        return defaultdict(type) \n",
    "    else: \n",
    "        return defaultdict(lambda: multi_dict(K-1, type)) "
   ]
  },
  {
   "cell_type": "code",
   "execution_count": 7,
   "metadata": {
    "code_folding": []
   },
   "outputs": [],
   "source": [
    "def runTestsModel1(topicsRange,alphaTests,etaTests):\n",
    "\n",
    "    \"\"\"\n",
    "    run tests on model 1 for alpha, eta and num_topics parameters\n",
    "    (calculate coherence score for all (nbAlphas * nbEtas * nbNumTopics) cases)\n",
    "    \n",
    "    returns 3D dictionary. ex tests[10][0.01][0.61] = 0.36\n",
    "                                    t     a    e           t (topic), a (alpha), e (eta)\n",
    "    \"\"\"\n",
    "    \n",
    "    tests = {}\n",
    "    tests = multi_dict(3, int) \n",
    "\n",
    "    for nbTopics in topicsRange:\n",
    "        for alpha in alphaTests:\n",
    "            for eta in etaTests:\n",
    "                \n",
    "                print(nbTopics,alpha,eta)\n",
    "                \n",
    "                # calculate model\n",
    "                model, dictionary, corpus, ppTweets = LDAModelForAllTweets(\n",
    "                              numTopics=nbTopics,\n",
    "                              passes=10,\n",
    "                              alpha=alpha,\n",
    "                              eta=eta,\n",
    "                              iterations=200,\n",
    "                              eval_every=10)\n",
    "                \n",
    "                # calculaute coherence score\n",
    "                cs = computeCoherenceScore(model,ppTweets,dictionary)\n",
    "                \n",
    "                if eta == 'symmetric' and alpha == 'symmetric':\n",
    "                    tests[nbTopics][-1][-1] = cs\n",
    "                elif eta == 'symmetric' and alpha == 'asymmetric':\n",
    "                    tests[nbTopics][-2][-1] = cs\n",
    "                elif eta == 'symmetric' and alpha not in ['symmetric','asymmetric']:\n",
    "                    tests[nbTopics][alpha][-1] = cs\n",
    "                elif alpha == 'symmetric' and eta != 'symmetric':\n",
    "                    tests[nbTopics][-1][eta] = cs\n",
    "                elif alpha == 'asymmetric' and eta != 'symmetric':\n",
    "                    tests[nbTopics][-2][eta] = cs\n",
    "                else:\n",
    "                    tests[nbTopics][alpha][eta] = cs\n",
    "    return tests"
   ]
  },
  {
   "cell_type": "markdown",
   "metadata": {},
   "source": [
    "## 1.2. Run tests for model $X$\n",
    "<div id=\"1-2\"></div>"
   ]
  },
  {
   "cell_type": "markdown",
   "metadata": {},
   "source": [
    "For model $X$ let:\n",
    "\n",
    " - `num_topics in [50,100,150]`\n",
    " \n",
    " - `alpha in [0.000001,0.001,0.1,0.3,0.6,'symmetric']`\n",
    " \n",
    " - `eta in [0.3,0.6,0.9,None]`\n",
    " \n",
    "We wan't a lot of topics to represent the dataset so at least fifty. We couldn't add more possible values for `num_topics` because it just takes too long to run (20 minutes per test), we don't have time. These values will have to do for now. Instead of performing a triple `for loop`, we decided to cut these tests up into smaller chunks. Each round of tests is dependant on the previous one. For example if in this first round we find that `alpha=0.6` doesn't produce good coherence scores, then we'll try other values on next tests or only try `alpha=0.6` once or twice more."
   ]
  },
  {
   "cell_type": "markdown",
   "metadata": {},
   "source": [
    "### Round 1"
   ]
  },
  {
   "cell_type": "code",
   "execution_count": 8,
   "metadata": {},
   "outputs": [
    {
     "name": "stdout",
     "output_type": "stream",
     "text": [
      "50 0.01 0.3\n",
      "50 0.01 0.6\n",
      "50 0.3 0.3\n",
      "50 0.3 0.6\n",
      "50 0.6 0.3\n",
      "50 0.6 0.6\n"
     ]
    }
   ],
   "source": [
    "\n",
    "# Alpha parameter\n",
    "alphaTests = [0.01,0.3,0.6] # (0.01, 1, 0.3)\n",
    "\n",
    "# Eta parameter\n",
    "etaTests = [0.3,0.6]\n",
    "\n",
    "# num_topics parameter\n",
    "topicsRange = [50]\n",
    "\n",
    "tests1Model1 = runTestsModel1([50],alphaTests,etaTests)"
   ]
  },
  {
   "cell_type": "markdown",
   "metadata": {},
   "source": [
    "### Round 2"
   ]
  },
  {
   "cell_type": "code",
   "execution_count": 13,
   "metadata": {},
   "outputs": [
    {
     "name": "stdout",
     "output_type": "stream",
     "text": [
      "50 0.001 0.3\n",
      "50 0.001 0.6\n",
      "50 0.001 None\n",
      "50 symmetric 0.3\n",
      "50 symmetric 0.6\n",
      "50 symmetric None\n"
     ]
    }
   ],
   "source": [
    "# Alpha parameter\n",
    "alphaTests = [0.001,\"symmetric\"] # (0.01, 1, 0.3)\n",
    "\n",
    "# Eta parameter\n",
    "etaTests = [0.3,0.6,None]\n",
    "\n",
    "# num_topics parameter\n",
    "topicsRange = [50]\n",
    "\n",
    "tests2Model1 = runTestsModel1(topicsRange,alphaTests,etaTests)"
   ]
  },
  {
   "cell_type": "markdown",
   "metadata": {},
   "source": [
    "### Round 3"
   ]
  },
  {
   "cell_type": "code",
   "execution_count": 26,
   "metadata": {},
   "outputs": [
    {
     "name": "stdout",
     "output_type": "stream",
     "text": [
      "50 1e-06 0.3\n",
      "50 1e-06 0.6\n"
     ]
    }
   ],
   "source": [
    "# Alpha parameter\n",
    "alphaTests = [0.000001] # (0.01, 1, 0.3)\n",
    "\n",
    "# Eta parameter\n",
    "etaTests = [0.3,0.6]\n",
    "\n",
    "# num_topics parameter\n",
    "topicsRange = [50]\n",
    "\n",
    "tests3Model1 = runTestsModel1(topicsRange,alphaTests,etaTests)"
   ]
  },
  {
   "cell_type": "markdown",
   "metadata": {},
   "source": [
    "### Round 4"
   ]
  },
  {
   "cell_type": "code",
   "execution_count": 29,
   "metadata": {},
   "outputs": [
    {
     "name": "stdout",
     "output_type": "stream",
     "text": [
      "50 1e-06 None\n"
     ]
    }
   ],
   "source": [
    "# Alpha parameter\n",
    "alphaTests = [0.000001] # (0.01, 1, 0.3)\n",
    "\n",
    "# Eta parameter\n",
    "etaTests = [None]\n",
    "\n",
    "# num_topics parameter\n",
    "topicsRange = [50]\n",
    "\n",
    "tests4Model1 = runTestsModel1(topicsRange,alphaTests,etaTests)"
   ]
  },
  {
   "cell_type": "markdown",
   "metadata": {},
   "source": [
    "### Round 5"
   ]
  },
  {
   "cell_type": "code",
   "execution_count": 41,
   "metadata": {},
   "outputs": [
    {
     "name": "stdout",
     "output_type": "stream",
     "text": [
      "50 1e-06 0.9\n",
      "50 0.01 0.9\n"
     ]
    }
   ],
   "source": [
    "\n",
    "# Alpha parameter\n",
    "alphaTests = [0.000001,0.01] # (0.01, 1, 0.3)\n",
    "\n",
    "# Eta parameter\n",
    "etaTests = [0.9]\n",
    "\n",
    "# num_topics parameter\n",
    "topicsRange = [50]\n",
    "\n",
    "tests5Model1 = runTestsModel1(topicsRange,alphaTests,etaTests)"
   ]
  },
  {
   "cell_type": "markdown",
   "metadata": {},
   "source": [
    "### Round 6"
   ]
  },
  {
   "cell_type": "code",
   "execution_count": 43,
   "metadata": {},
   "outputs": [
    {
     "name": "stdout",
     "output_type": "stream",
     "text": [
      "100 1e-06 0.9\n"
     ]
    }
   ],
   "source": [
    "# Alpha parameter\n",
    "alphaTests = [0.000001] # (0.01, 1, 0.3)\n",
    "\n",
    "# Eta parameter\n",
    "etaTests = [0.9]\n",
    "\n",
    "# num_topics parameter\n",
    "topicsRange = [100]\n",
    "\n",
    "tests6Model1 = runTestsModel1(topicsRange,alphaTests,etaTests)"
   ]
  },
  {
   "cell_type": "markdown",
   "metadata": {},
   "source": [
    "### Round 7"
   ]
  },
  {
   "cell_type": "code",
   "execution_count": 45,
   "metadata": {},
   "outputs": [
    {
     "name": "stdout",
     "output_type": "stream",
     "text": [
      "100 0.01 0.6\n",
      "100 0.01 0.9\n",
      "100 0.3 0.6\n",
      "100 0.3 0.9\n"
     ]
    }
   ],
   "source": [
    "# Alpha parameter\n",
    "alphaTests = [0.01,0.3] # (0.01, 1, 0.3)\n",
    "\n",
    "# Eta parameter\n",
    "etaTests = [0.6,0.9]\n",
    "\n",
    "# num_topics parameter\n",
    "topicsRange = [100]\n",
    "\n",
    "tests7Model1 = runTestsModel1(topicsRange,alphaTests,etaTests)"
   ]
  },
  {
   "cell_type": "markdown",
   "metadata": {},
   "source": [
    "### Round 8"
   ]
  },
  {
   "cell_type": "code",
   "execution_count": 49,
   "metadata": {},
   "outputs": [
    {
     "name": "stdout",
     "output_type": "stream",
     "text": [
      "150 1e-06 0.9\n"
     ]
    }
   ],
   "source": [
    "# Alpha parameter\n",
    "alphaTests = [0.000001]\n",
    "\n",
    "# Eta parameter\n",
    "etaTests = [0.9]\n",
    "\n",
    "# num_topics parameter\n",
    "topicsRange = [150]\n",
    "\n",
    "tests8Model1 = runTestsModel1(topicsRange,alphaTests,etaTests)"
   ]
  },
  {
   "cell_type": "markdown",
   "metadata": {},
   "source": [
    "### Round 9"
   ]
  },
  {
   "cell_type": "code",
   "execution_count": 53,
   "metadata": {},
   "outputs": [
    {
     "name": "stdout",
     "output_type": "stream",
     "text": [
      "145 1e-06 0.9\n"
     ]
    }
   ],
   "source": [
    "# Alpha parameter\n",
    "alphaTests = [0.000001]\n",
    "\n",
    "# Eta parameter\n",
    "etaTests = [0.9]\n",
    "\n",
    "# num_topics parameter\n",
    "topicsRange = [145]\n",
    "\n",
    "tests9Model1 = runTestsModel1(topicsRange,alphaTests,etaTests)"
   ]
  },
  {
   "cell_type": "markdown",
   "metadata": {},
   "source": [
    "### Round 10"
   ]
  },
  {
   "cell_type": "code",
   "execution_count": 371,
   "metadata": {},
   "outputs": [
    {
     "name": "stdout",
     "output_type": "stream",
     "text": [
      "90 1e-06 0.9\n",
      "110 1e-06 0.9\n"
     ]
    }
   ],
   "source": [
    "# Alpha parameter\n",
    "alphaTests = [0.000001]\n",
    "\n",
    "# Eta parameter\n",
    "etaTests = [0.9]\n",
    "\n",
    "# num_topics parameter\n",
    "topicsRange = [90,110]\n",
    "\n",
    "tests10Model1 = runTestsModel1(topicsRange,alphaTests,etaTests)"
   ]
  },
  {
   "cell_type": "markdown",
   "metadata": {},
   "source": [
    "### Raw results"
   ]
  },
  {
   "cell_type": "code",
   "execution_count": 88,
   "metadata": {},
   "outputs": [
    {
     "data": {
      "text/plain": [
       "defaultdict(<function __main__.multi_dict.<locals>.<lambda>()>,\n",
       "            {50: defaultdict(<function __main__.multi_dict.<locals>.<lambda>()>,\n",
       "                         {0.01: defaultdict(int,\n",
       "                                      {0.3: 0.31937597471093226,\n",
       "                                       0.6: 0.36183911574782834}),\n",
       "                          0.3: defaultdict(int,\n",
       "                                      {0.3: 0.3313338198283578,\n",
       "                                       0.6: 0.3465848367914958}),\n",
       "                          0.6: defaultdict(int,\n",
       "                                      {0.3: 0.1697220355466482,\n",
       "                                       0.6: 0.15134074431689684})})})"
      ]
     },
     "execution_count": 88,
     "metadata": {},
     "output_type": "execute_result"
    }
   ],
   "source": [
    "tests1Model1"
   ]
  },
  {
   "cell_type": "code",
   "execution_count": 94,
   "metadata": {},
   "outputs": [
    {
     "data": {
      "text/plain": [
       "defaultdict(<function __main__.multi_dict.<locals>.<lambda>()>,\n",
       "            {50: defaultdict(<function __main__.multi_dict.<locals>.<lambda>()>,\n",
       "                         {0.001: defaultdict(int,\n",
       "                                      {0.3: 0.32190602970261084,\n",
       "                                       0.6: 0.35736087244370096,\n",
       "                                       None: 0.32330096976538014}),\n",
       "                          -1: defaultdict(int,\n",
       "                                      {0.3: 0.32665031378269727,\n",
       "                                       0.6: 0.3521716239134403,\n",
       "                                       None: 0.2995446374546204})})})"
      ]
     },
     "execution_count": 94,
     "metadata": {},
     "output_type": "execute_result"
    }
   ],
   "source": [
    "tests2Model1"
   ]
  },
  {
   "cell_type": "code",
   "execution_count": 95,
   "metadata": {},
   "outputs": [
    {
     "data": {
      "text/plain": [
       "defaultdict(<function __main__.multi_dict.<locals>.<lambda>()>,\n",
       "            {50: defaultdict(<function __main__.multi_dict.<locals>.<lambda>()>,\n",
       "                         {1e-06: defaultdict(int,\n",
       "                                      {0.3: 0.33524907901973255,\n",
       "                                       0.6: 0.3584871189210637})})})"
      ]
     },
     "execution_count": 95,
     "metadata": {},
     "output_type": "execute_result"
    }
   ],
   "source": [
    "tests3Model1"
   ]
  },
  {
   "cell_type": "code",
   "execution_count": 96,
   "metadata": {},
   "outputs": [
    {
     "data": {
      "text/plain": [
       "defaultdict(<function __main__.multi_dict.<locals>.<lambda>()>,\n",
       "            {50: defaultdict(<function __main__.multi_dict.<locals>.<lambda>()>,\n",
       "                         {1e-06: defaultdict(int,\n",
       "                                      {None: 0.3094976376301435})})})"
      ]
     },
     "execution_count": 96,
     "metadata": {},
     "output_type": "execute_result"
    }
   ],
   "source": [
    "tests4Model1"
   ]
  },
  {
   "cell_type": "code",
   "execution_count": 97,
   "metadata": {},
   "outputs": [
    {
     "data": {
      "text/plain": [
       "defaultdict(<function __main__.multi_dict.<locals>.<lambda>()>,\n",
       "            {50: defaultdict(<function __main__.multi_dict.<locals>.<lambda>()>,\n",
       "                         {1e-06: defaultdict(int, {0.9: 0.4145539268460638}),\n",
       "                          0.01: defaultdict(int,\n",
       "                                      {0.9: 0.40547977424181675})})})"
      ]
     },
     "execution_count": 97,
     "metadata": {},
     "output_type": "execute_result"
    }
   ],
   "source": [
    "tests5Model1"
   ]
  },
  {
   "cell_type": "code",
   "execution_count": 98,
   "metadata": {},
   "outputs": [
    {
     "data": {
      "text/plain": [
       "defaultdict(<function __main__.multi_dict.<locals>.<lambda>()>,\n",
       "            {100: defaultdict(<function __main__.multi_dict.<locals>.<lambda>()>,\n",
       "                         {1e-06: defaultdict(int,\n",
       "                                      {0.9: 0.4512357082400142})})})"
      ]
     },
     "execution_count": 98,
     "metadata": {},
     "output_type": "execute_result"
    }
   ],
   "source": [
    "tests6Model1"
   ]
  },
  {
   "cell_type": "code",
   "execution_count": 476,
   "metadata": {},
   "outputs": [
    {
     "data": {
      "text/plain": [
       "defaultdict(<function __main__.multi_dict.<locals>.<lambda>()>,\n",
       "            {100: defaultdict(<function __main__.multi_dict.<locals>.<lambda>()>,\n",
       "                         {0.01: defaultdict(int,\n",
       "                                      {0.6: 0.405396127216225,\n",
       "                                       0.9: 0.43947014668578305,\n",
       "                                       0.3: 0,\n",
       "                                       None: 0}),\n",
       "                          0.3: defaultdict(int,\n",
       "                                      {0.6: 0.35732285584542156,\n",
       "                                       0.9: 0.35760843576235224,\n",
       "                                       0.3: 0,\n",
       "                                       None: 0})})})"
      ]
     },
     "execution_count": 476,
     "metadata": {},
     "output_type": "execute_result"
    }
   ],
   "source": [
    "tests7Model1"
   ]
  },
  {
   "cell_type": "code",
   "execution_count": 475,
   "metadata": {},
   "outputs": [
    {
     "data": {
      "text/plain": [
       "defaultdict(<function __main__.multi_dict.<locals>.<lambda>()>,\n",
       "            {150: defaultdict(<function __main__.multi_dict.<locals>.<lambda>()>,\n",
       "                         {1e-06: defaultdict(int,\n",
       "                                      {0.9: 0.119022069680323,\n",
       "                                       0.3: 0,\n",
       "                                       0.6: 0,\n",
       "                                       None: 0})})})"
      ]
     },
     "execution_count": 475,
     "metadata": {},
     "output_type": "execute_result"
    }
   ],
   "source": [
    "tests8Model1"
   ]
  },
  {
   "cell_type": "code",
   "execution_count": 474,
   "metadata": {
    "scrolled": true
   },
   "outputs": [
    {
     "data": {
      "text/plain": [
       "defaultdict(<function __main__.multi_dict.<locals>.<lambda>()>,\n",
       "            {145: defaultdict(<function __main__.multi_dict.<locals>.<lambda>()>,\n",
       "                         {1e-06: defaultdict(int,\n",
       "                                      {0.9: 0.12417560069572438,\n",
       "                                       0.3: 0,\n",
       "                                       0.6: 0,\n",
       "                                       None: 0})})})"
      ]
     },
     "execution_count": 474,
     "metadata": {},
     "output_type": "execute_result"
    }
   ],
   "source": [
    "tests9Model1"
   ]
  },
  {
   "cell_type": "code",
   "execution_count": 473,
   "metadata": {},
   "outputs": [
    {
     "data": {
      "text/plain": [
       "defaultdict(<function __main__.multi_dict.<locals>.<lambda>()>,\n",
       "            {90: defaultdict(<function __main__.multi_dict.<locals>.<lambda>()>,\n",
       "                         {1e-06: defaultdict(int,\n",
       "                                      {0.9: 0.5089198742920636,\n",
       "                                       0.3: 0,\n",
       "                                       0.6: 0,\n",
       "                                       None: 0})}),\n",
       "             110: defaultdict(<function __main__.multi_dict.<locals>.<lambda>()>,\n",
       "                         {1e-06: defaultdict(int,\n",
       "                                      {0.9: 0.38947412700678596,\n",
       "                                       0.3: 0,\n",
       "                                       0.6: 0,\n",
       "                                       None: 0})})})"
      ]
     },
     "execution_count": 473,
     "metadata": {},
     "output_type": "execute_result"
    }
   ],
   "source": [
    "tests10Model1"
   ]
  },
  {
   "cell_type": "markdown",
   "metadata": {},
   "source": [
    "### Merge results\n",
    "Here we are merging all tests into one dictionary for easier use"
   ]
  },
  {
   "cell_type": "code",
   "execution_count": 477,
   "metadata": {
    "scrolled": true
   },
   "outputs": [],
   "source": [
    "import copy\n",
    "testsModel1 = copy.deepcopy(tests1Model1)\n",
    "testsModel1[50][0.001] = copy.deepcopy(tests2Model1[50][0.001])\n",
    "testsModel1[50][-1] = copy.deepcopy(tests2Model1[50][-1])\n",
    "testsModel1[50][0.000001] = copy.deepcopy(tests3Model1[50][0.000001])\n",
    "testsModel1[50][0.000001][None] = copy.deepcopy(tests4Model1[50][0.000001][None])\n",
    "testsModel1[50][0.000001][0.9] = copy.deepcopy(tests5Model1[50][0.000001][0.9])\n",
    "testsModel1[50][0.01][0.9] = copy.deepcopy(tests5Model1[50][0.01][0.9])\n",
    "testsModel1[100][0.000001][0.9] = copy.deepcopy(tests6Model1[100][0.000001][0.9])\n",
    "testsModel1[100][0.01] = copy.deepcopy(tests7Model1[100][0.01])\n",
    "testsModel1[100][0.3] = copy.deepcopy(tests7Model1[100][0.3])\n",
    "testsModel1[150][0.000001] = copy.deepcopy(tests8Model1[150][0.000001])\n",
    "testsModel1[145][0.000001] = copy.deepcopy(tests9Model1[145][0.000001])\n",
    "testsModel1[90][0.000001] = copy.deepcopy(tests10Model1[90][0.000001])\n",
    "testsModel1[110][0.000001] = copy.deepcopy(tests10Model1[110][0.000001])"
   ]
  },
  {
   "cell_type": "code",
   "execution_count": 478,
   "metadata": {},
   "outputs": [
    {
     "data": {
      "text/plain": [
       "defaultdict(<function __main__.multi_dict.<locals>.<lambda>()>,\n",
       "            {50: defaultdict(<function __main__.multi_dict.<locals>.<lambda>()>,\n",
       "                         {0.01: defaultdict(int,\n",
       "                                      {0.3: 0.31937597471093226,\n",
       "                                       0.6: 0.36183911574782834,\n",
       "                                       0.9: 0.40547977424181675}),\n",
       "                          0.3: defaultdict(int,\n",
       "                                      {0.3: 0.3313338198283578,\n",
       "                                       0.6: 0.3465848367914958}),\n",
       "                          0.6: defaultdict(int,\n",
       "                                      {0.3: 0.1697220355466482,\n",
       "                                       0.6: 0.15134074431689684}),\n",
       "                          0.001: defaultdict(int,\n",
       "                                      {0.3: 0.32190602970261084,\n",
       "                                       0.6: 0.35736087244370096,\n",
       "                                       None: 0.32330096976538014,\n",
       "                                       0.9: 0}),\n",
       "                          -1: defaultdict(int,\n",
       "                                      {0.3: 0.32665031378269727,\n",
       "                                       0.6: 0.3521716239134403,\n",
       "                                       None: 0.2995446374546204,\n",
       "                                       0.9: 0}),\n",
       "                          1e-06: defaultdict(int,\n",
       "                                      {0.3: 0.33524907901973255,\n",
       "                                       0.6: 0.3584871189210637,\n",
       "                                       None: 0.3094976376301435,\n",
       "                                       0.9: 0.4145539268460638})}),\n",
       "             100: defaultdict(<function __main__.multi_dict.<locals>.<lambda>()>,\n",
       "                         {1e-06: defaultdict(int, {0.9: 0.4512357082400142}),\n",
       "                          0.01: defaultdict(int,\n",
       "                                      {0.6: 0.405396127216225,\n",
       "                                       0.9: 0.43947014668578305,\n",
       "                                       0.3: 0,\n",
       "                                       None: 0}),\n",
       "                          0.3: defaultdict(int,\n",
       "                                      {0.6: 0.35732285584542156,\n",
       "                                       0.9: 0.35760843576235224,\n",
       "                                       0.3: 0,\n",
       "                                       None: 0})}),\n",
       "             150: defaultdict(<function __main__.multi_dict.<locals>.<lambda>()>,\n",
       "                         {1e-06: defaultdict(int,\n",
       "                                      {0.9: 0.119022069680323,\n",
       "                                       0.3: 0,\n",
       "                                       0.6: 0,\n",
       "                                       None: 0})}),\n",
       "             145: defaultdict(<function __main__.multi_dict.<locals>.<lambda>()>,\n",
       "                         {1e-06: defaultdict(int,\n",
       "                                      {0.9: 0.12417560069572438,\n",
       "                                       0.3: 0,\n",
       "                                       0.6: 0,\n",
       "                                       None: 0})}),\n",
       "             90: defaultdict(<function __main__.multi_dict.<locals>.<lambda>()>,\n",
       "                         {1e-06: defaultdict(int,\n",
       "                                      {0.9: 0.5089198742920636,\n",
       "                                       0.3: 0,\n",
       "                                       0.6: 0,\n",
       "                                       None: 0})}),\n",
       "             110: defaultdict(<function __main__.multi_dict.<locals>.<lambda>()>,\n",
       "                         {1e-06: defaultdict(int,\n",
       "                                      {0.9: 0.38947412700678596,\n",
       "                                       0.3: 0,\n",
       "                                       0.6: 0,\n",
       "                                       None: 0})})})"
      ]
     },
     "execution_count": 478,
     "metadata": {},
     "output_type": "execute_result"
    }
   ],
   "source": [
    "testsModel1"
   ]
  },
  {
   "cell_type": "markdown",
   "metadata": {},
   "source": [
    "We can already see that `num_topics=90`, `alpha=1e-06` and `eta=0.9` produces the best coherence score. For `alpha` this makes sense as each document is a tweet. We can assume that each tweet talks about one topic. There are 900 000 tweets so logically alpha=$\\frac{1}{1 000 000}$ But let's do some futher analysisto find out more:"
   ]
  },
  {
   "cell_type": "markdown",
   "metadata": {},
   "source": [
    "## 1.3. Plot model $X$ tests results\n",
    "<div id=\"1-3\"></div>\n",
    "Let's draw a scatter plot. The x axis represents `num_topics` and the y axis represents the coherence score. For each possible number of topics, we plot all the calculated coherence values onto $d:x=\\text{num_topics}$. The orange dots are the average coherence scores for the given number of topics. We also plot a line passing through all orange dots to visualise better the evolution of the coherence score depending on the number of topics."
   ]
  },
  {
   "cell_type": "code",
   "execution_count": 491,
   "metadata": {},
   "outputs": [],
   "source": [
    "def scatterCoherenceScores(tests):\n",
    "\n",
    "    coherenceScoresForEachNumTopics = {}\n",
    "    for t in tests.keys():\n",
    "        cScores = []\n",
    "        for a in tests[t]:\n",
    "            for e in tests[t][a]:\n",
    "                cScores.append((tests[t][a][e],t))\n",
    "        coherenceScoresForEachNumTopics[t] = list(filter(lambda x:x[0] != 0.0,cScores))\n",
    "        \n",
    "    avgCSForEachNbTopics = {}\n",
    "    for t in sorted(tests):\n",
    "        tmp = [couple[0] for couple in coherenceScoresForEachNumTopics[t]]\n",
    "        if tmp != []:\n",
    "            avgCSForEachNbTopics[t] = sum(tmp)/len(tmp)\n",
    "\n",
    "    x = [couple[1] for couple in [item for sublist in list(coherenceScoresForEachNumTopics.values()) for item in sublist]]\n",
    "    y = [couple[0] for couple in [item for sublist in list(coherenceScoresForEachNumTopics.values()) for item in sublist]] \n",
    "    \n",
    "    plt.figure(figsize=(7,7))\n",
    "    plt.xlabel('number of topics')\n",
    "    plt.ylabel('coherence score')\n",
    "    plt.scatter(x,y)\n",
    "    plt.scatter(sorted([t for t in tests]),list(avgCSForEachNbTopics.values()))\n",
    "    plt.plot(sorted([t for t in tests]),list(avgCSForEachNbTopics.values()))\n",
    "    plt.show()"
   ]
  },
  {
   "cell_type": "code",
   "execution_count": 492,
   "metadata": {
    "scrolled": false
   },
   "outputs": [
    {
     "data": {
      "image/png": "[encoded data removed]",
      "text/plain": [
       "<Figure size 504x504 with 1 Axes>"
      ]
     },
     "metadata": {},
     "output_type": "display_data"
    }
   ],
   "source": [
    "scatterCoherenceScores(testsModel1)"
   ]
  },
  {
   "cell_type": "markdown",
   "metadata": {},
   "source": [
    "As we can see, as we approach 100 topics, the coherence score increases. As we add more topics past 100, the coherence score declines."
   ]
  },
  {
   "cell_type": "markdown",
   "metadata": {},
   "source": [
    "## 1.4. Help deciding what values of `alpha` and `eta` to use\n",
    "<div id=\"1-4\"></div>\n",
    "\n",
    "We have seen that `alpha=1e-06` and `eta=0.9` gave good results. Let's dig a little deeper. First of all, for each set of tests where alpha and eta are constant (nbTopics is not), we calculate the average coherence score. For this we use the `getAverageCoherenceScores()` function:"
   ]
  },
  {
   "cell_type": "code",
   "execution_count": 324,
   "metadata": {},
   "outputs": [],
   "source": [
    "def getAverageCoherenceScores(tests,topicsRange,alphaTests,etaTests):\n",
    "    \"\"\"\n",
    "    returns list of length len(topicsRange) where each element is (avg, (alpha, eta))\n",
    "    avg is the average coherence score over range(number of topics) on a set of tests (30 tests, 30 = 6 alphas x 5 etas) where alpha and eta fixed.\n",
    "    \"\"\"\n",
    "    \n",
    "    averages = []\n",
    "    for alpha in alphaTests:\n",
    "        for eta in etaTests:\n",
    "            tmp = [tests[num][alpha][eta] for num in topicsRange]\n",
    "            average = (sum(tmp)/len(tmp),(alpha,eta))\n",
    "            averages.append(average)\n",
    "    return averages"
   ]
  },
  {
   "cell_type": "markdown",
   "metadata": {},
   "source": [
    "Next, let's take alpha = 0.3 for example. We extract the average coherence scores from the previous function for which alpha is equal to 0.3, and then calculate the average score from the new set of scores. We do this for all possible values of alpha. The highest value we get is the best possible value for alpha. We use `evaluateAlpha()` for this:   "
   ]
  },
  {
   "cell_type": "code",
   "execution_count": 325,
   "metadata": {},
   "outputs": [],
   "source": [
    "def evaluateAlpha(tests,topicsRange,alphaTests,etaTests):\n",
    "    \"\"\"\n",
    "    returns sorted list where each element is (avg, alpha)\n",
    "    avg is the average coherence score where alpha=alpha\n",
    "    \"\"\"\n",
    "    \n",
    "    avgSorted = sorted(getAverageCoherenceScores(tests,topicsRange,alphaTests,etaTests), key=lambda x:x[0],reverse=True)\n",
    "    # list(filter(lambda x:x[0] != -1,avgSorted))\n",
    "    \n",
    "    myList = []\n",
    "    for a in alphaTests:\n",
    "        tmp = [elt[0] for elt in avgSorted if elt[1][0] == a]\n",
    "        myList.append((sum(tmp)/len(tmp),a))\n",
    "    return sorted(myList,key=lambda x:x[0],reverse=True)"
   ]
  },
  {
   "cell_type": "code",
   "execution_count": 326,
   "metadata": {},
   "outputs": [],
   "source": [
    "def evaluateEta(tests,topicsRange,alphaTests,etaTests):\n",
    "    \"\"\"\n",
    "    returns sorted list where each element is (avg, eta)\n",
    "    avg is the average coherence score where eta=eta\n",
    "    \"\"\"\n",
    "    \n",
    "    avgSorted = sorted(getAverageCoherenceScores(tests,topicsRange,alphaTests,etaTests), key=lambda x:x[0],reverse=True)\n",
    "    \n",
    "    myList = []\n",
    "    for e in etaTests:\n",
    "        tmp = [elt[0] for elt in avgSorted if elt[1][1] == e]\n",
    "        myList.append((sum(tmp)/len(tmp),e))\n",
    "    return sorted(myList,key=lambda x:x[0],reverse=True)"
   ]
  },
  {
   "cell_type": "code",
   "execution_count": 376,
   "metadata": {},
   "outputs": [],
   "source": [
    "topicsRangeX = [50,90,100,110,145,150]\n",
    "alphaTestsX = [0.000001,0.001,0.01,0.3,0.6,-1]\n",
    "etaTestsX = [0.3,0.6,0.9,None]"
   ]
  },
  {
   "cell_type": "code",
   "execution_count": 378,
   "metadata": {},
   "outputs": [
    {
     "data": {
      "text/plain": [
       "[(0.12544229759716313, 1e-06),\n",
       " (0.08048171410844106, 0.01),\n",
       " (0.05803541450948448, 0.3),\n",
       " (0.041773661329653836, 0.001),\n",
       " (0.04076527396461492, -1),\n",
       " (0.01337761582764771, 0.6)]"
      ]
     },
     "execution_count": 378,
     "metadata": {},
     "output_type": "execute_result"
    }
   ],
   "source": [
    "evaluateAlpha(testsModel1,topicsRangeX,alphaTestsX,etaTestsX)"
   ]
  },
  {
   "cell_type": "code",
   "execution_count": 379,
   "metadata": {},
   "outputs": [
    {
     "data": {
      "text/plain": [
       "[(0.08916499065141463, 0.9),\n",
       " (0.07473620264433535, 0.6),\n",
       " (0.05011770146086053, 0.3),\n",
       " (0.025898423468059557, None)]"
      ]
     },
     "execution_count": 379,
     "metadata": {},
     "output_type": "execute_result"
    }
   ],
   "source": [
    "evaluateEta(testsModel1,topicsRangeX,alphaTestsX,etaTestsX)"
   ]
  },
  {
   "cell_type": "code",
   "execution_count": 380,
   "metadata": {},
   "outputs": [
    {
     "data": {
      "text/plain": [
       "[(0.3345635511268292, (1e-06, 0.9)),\n",
       " (0.14082498682126662, (0.01, 0.9)),\n",
       " (0.1278725404940089, (0.01, 0.6)),\n",
       " (0.11731794877281958, (0.3, 0.6)),\n",
       " (0.05974785315351062, (1e-06, 0.6))]"
      ]
     },
     "execution_count": 380,
     "metadata": {},
     "output_type": "execute_result"
    }
   ],
   "source": [
    "sorted(getAverageCoherenceScores(testsModel1,topicsRangeX,alphaTestsX,etaTestsX), key=lambda x:x[0],reverse=True)[:5]"
   ]
  },
  {
   "cell_type": "markdown",
   "metadata": {},
   "source": [
    "<b>IMPORTANT</b>: here the average coherence scores are very low, this is because we calculated the averages for all possible values but we didn't conduct tests for all possible values. As said before the \"missing gaps\" are replaced with 0. All the zeros bring down the averages. But this doesn't affet the overall interpretation of the averages. \n",
    "\n",
    "We can see that the average coherence score is highest for `alpha = 1e-06` and `eta = 0.9` (first two outputs). We can also see that overall, the highest average coherence score is for `alpha = 1e-06` and `eta = 0.9`. These values seem pertinent."
   ]
  },
  {
   "cell_type": "markdown",
   "metadata": {},
   "source": [
    "# 2. Model $Y$\n",
    "<div id=\"2\"></div>"
   ]
  },
  {
   "cell_type": "markdown",
   "metadata": {},
   "source": [
    "## 2.1. Run tests function for model $Y$\n",
    "<div id=\"2-1\"></div>"
   ]
  },
  {
   "cell_type": "markdown",
   "metadata": {},
   "source": [
    "### Retieve tweet data for model $Y$\n",
    "Note that for this model we ran two sets of tests. The first set was for data not including users connections. The second with users connections. The following cell retrieves tweets from users and users connections. This cell was altered for the other set of tests."
   ]
  },
  {
   "cell_type": "code",
   "execution_count": 135,
   "metadata": {},
   "outputs": [],
   "source": [
    "comsModel2 = getTweetsFromAllUsersAndUsersConnectionsFromAllCommunitiesFromLevel(len(jtweets),\n",
    "                                                                list(data['communities'].keys())[-1],\n",
    "                                                                list(getLevelsFromTimeStamp(list(data['communities'].keys())[-1]))[-1],\n",
    "                                                                500)\n",
    "\n",
    "# separate the raw tweets from the pre processed ones\n",
    "rawComsDictModel2 = {k:v[1] for (k,v) in comsModel2.items()}\n",
    "ppComsDictModel2 = {k:v[0] for (k,v) in comsModel2.items()}"
   ]
  },
  {
   "cell_type": "markdown",
   "metadata": {},
   "source": [
    "### The function"
   ]
  },
  {
   "cell_type": "code",
   "execution_count": 83,
   "metadata": {},
   "outputs": [],
   "source": [
    "def runTestsModel2(topicsRange,alphaTests,etaTests):\n",
    "\n",
    "    \"\"\"\n",
    "    run tests on model 1 for alpha, eta and num_topics parameters\n",
    "    (calculate coherence score for all (nbAlphas * nbEtas * nbNumTopics) cases)\n",
    "    \n",
    "    returns 3D dictionary. ex tests[10][0.01][0.61] = 0.36\n",
    "                                    t     a    e           t (topic), a (alpha), e (eta)\n",
    "    \"\"\"\n",
    "    \n",
    "    tests = {}\n",
    "    tests = multi_dict(3, int) \n",
    "\n",
    "    for nbTopics in topicsRange:\n",
    "        for alpha in alphaTests:\n",
    "            for eta in etaTests:\n",
    "                \n",
    "                print(nbTopics,alpha,eta)\n",
    "                \n",
    "                # calculate model\n",
    "                model, dictionary, corpusComs, docTopicDistSorted, ppComsDict, rawComsDict = BuildModelForLevel(\n",
    "                       nbTweets=len(jtweets)-1, \n",
    "                       timeStamp=list(data['communities'].keys())[-1], \n",
    "                       level=list(getLevelsFromTimeStamp(list(data['communities'].keys())[-1]))[-1], \n",
    "                       dateMargin=500, \n",
    "                       modelType=0, \n",
    "                       connectionsToo=False, \n",
    "                       numTopics=nbTopics, \n",
    "                       passes=10, \n",
    "                       ppComsDict=ppComsDictModel2,\n",
    "                       rawComsDict=rawComsDictModel2,\n",
    "                       alpha=alpha,\n",
    "                       eta=eta,\n",
    "                       eval_every=10,\n",
    "                       iterations=200)\n",
    "                \n",
    "                # calculaute coherence score\n",
    "                cs = computeCoherenceScore(model,ppComsDict,dictionary)\n",
    "                \n",
    "                if eta == 'symmetric' and alpha == 'symmetric':\n",
    "                    tests[nbTopics][-1][-1] = cs\n",
    "                elif eta == 'symmetric' and alpha == 'asymmetric':\n",
    "                    tests[nbTopics][-2][-1] = cs\n",
    "                elif eta == 'symmetric' and alpha not in ['symmetric','asymmetric']:\n",
    "                    tests[nbTopics][alpha][-1] = cs\n",
    "                elif alpha == 'symmetric' and eta != 'symmetric':\n",
    "                    tests[nbTopics][-1][eta] = cs\n",
    "                elif alpha == 'asymmetric' and eta != 'symmetric':\n",
    "                    tests[nbTopics][-2][eta] = cs\n",
    "                else:\n",
    "                    tests[nbTopics][alpha][eta] = cs\n",
    "    return tests"
   ]
  },
  {
   "cell_type": "markdown",
   "metadata": {},
   "source": [
    "## 2.2. Run tests for model $Y$\n",
    "<div id=\"2-2\"></div>"
   ]
  },
  {
   "cell_type": "markdown",
   "metadata": {},
   "source": [
    "For model $Y$ let:\n",
    "\n",
    " - `num_topics in [50,75,100,125,150]`\n",
    " \n",
    " - `alpha in [0.000001,0.01,0.3]`\n",
    " \n",
    " - `eta in [0.6,0.9,None]`\n",
    " \n",
    "Just like for model $X$, we want a lot of topics to represent the dataset so at least fifty. We added more possible number of topics here as there is less data to process. As seen previously, the coherence scores for model $X$ were quite good for `alpha` closer to 0 and `eta` closer to 1. So their possible values here are inspired by our previous results. We perform a triple `for loop` over the three hyper-parameters and calculate the coherence scores for each model produced. So in this case, 5x3x3 = 45 coherence scores calculated.\n",
    "    \n",
    "This process is done for both `userConnections=True` and `userConnections=False` cases"
   ]
  },
  {
   "cell_type": "markdown",
   "metadata": {},
   "source": [
    "### Case `userConnections=False`"
   ]
  },
  {
   "cell_type": "code",
   "execution_count": 79,
   "metadata": {
    "collapsed": true
   },
   "outputs": [
    {
     "name": "stdout",
     "output_type": "stream",
     "text": [
      "50 1e-06 0.6\n",
      "50 1e-06 0.9\n",
      "50 1e-06 None\n",
      "50 0.01 0.6\n",
      "50 0.01 0.9\n",
      "50 0.01 None\n",
      "50 0.3 0.6\n",
      "50 0.3 0.9\n",
      "50 0.3 None\n",
      "75 1e-06 0.6\n",
      "75 1e-06 0.9\n",
      "75 1e-06 None\n",
      "75 0.01 0.6\n"
     ]
    },
    {
     "name": "stderr",
     "output_type": "stream",
     "text": [
      "Exception ignored in: <Finalize object, dead>\n",
      "Traceback (most recent call last):\n",
      "  File \"/home/jupyter/anaconda3/lib/python3.6/multiprocessing/util.py\", line 186, in __call__\n",
      "    res = self._callback(*self._args, **self._kwargs)\n",
      "  File \"/home/jupyter/anaconda3/lib/python3.6/multiprocessing/pool.py\", line 615, in _terminate_pool\n",
      "    p.terminate()\n",
      "  File \"/home/jupyter/anaconda3/lib/python3.6/multiprocessing/process.py\", line 116, in terminate\n",
      "    self._popen.terminate()\n",
      "AttributeError: 'NoneType' object has no attribute 'terminate'\n"
     ]
    },
    {
     "name": "stdout",
     "output_type": "stream",
     "text": [
      "75 0.01 0.9\n",
      "75 0.01 None\n",
      "75 0.3 0.6\n",
      "75 0.3 0.9\n",
      "75 0.3 None\n",
      "100 1e-06 0.6\n",
      "100 1e-06 0.9\n",
      "100 1e-06 None\n",
      "100 0.01 0.6\n",
      "100 0.01 0.9\n",
      "100 0.01 None\n",
      "100 0.3 0.6\n",
      "100 0.3 0.9\n",
      "100 0.3 None\n",
      "125 1e-06 0.6\n",
      "125 1e-06 0.9\n",
      "125 1e-06 None\n",
      "125 0.01 0.6\n",
      "125 0.01 0.9\n",
      "125 0.01 None\n",
      "125 0.3 0.6\n",
      "125 0.3 0.9\n",
      "125 0.3 None\n",
      "150 1e-06 0.6\n",
      "150 1e-06 0.9\n",
      "150 1e-06 None\n",
      "150 0.01 0.6\n",
      "150 0.01 0.9\n",
      "150 0.01 None\n",
      "150 0.3 0.6\n",
      "150 0.3 0.9\n",
      "150 0.3 None\n"
     ]
    }
   ],
   "source": [
    "# Alpha parameter\n",
    "alphaTests = [0.000001,0.01,0.3]\n",
    "\n",
    "# Eta parameter\n",
    "etaTests = [0.6,0.9,None]\n",
    "\n",
    "# num_topics parameter\n",
    "topicsRange = [50,75,100,125,150]\n",
    "\n",
    "tests1Model2 = runTestsModel2(topicsRange,alphaTests,etaTests) # not connections"
   ]
  },
  {
   "cell_type": "markdown",
   "metadata": {},
   "source": [
    "### Case `userConnections=True`"
   ]
  },
  {
   "cell_type": "code",
   "execution_count": 84,
   "metadata": {
    "collapsed": true
   },
   "outputs": [
    {
     "name": "stdout",
     "output_type": "stream",
     "text": [
      "50 1e-06 0.6\n",
      "50 1e-06 0.9\n",
      "50 1e-06 None\n",
      "50 0.01 0.6\n",
      "50 0.01 0.9\n",
      "50 0.01 None\n",
      "50 0.3 0.6\n",
      "50 0.3 0.9\n",
      "50 0.3 None\n",
      "75 1e-06 0.6\n",
      "75 1e-06 0.9\n",
      "75 1e-06 None\n",
      "75 0.01 0.6\n",
      "75 0.01 0.9\n",
      "75 0.01 None\n",
      "75 0.3 0.6\n",
      "75 0.3 0.9\n",
      "75 0.3 None\n",
      "100 1e-06 0.6\n",
      "100 1e-06 0.9\n",
      "100 1e-06 None\n",
      "100 0.01 0.6\n",
      "100 0.01 0.9\n",
      "100 0.01 None\n",
      "100 0.3 0.6\n",
      "100 0.3 0.9\n",
      "100 0.3 None\n",
      "125 1e-06 0.6\n",
      "125 1e-06 0.9\n",
      "125 1e-06 None\n",
      "125 0.01 0.6\n",
      "125 0.01 0.9\n",
      "125 0.01 None\n",
      "125 0.3 0.6\n",
      "125 0.3 0.9\n",
      "125 0.3 None\n",
      "150 1e-06 0.6\n",
      "150 1e-06 0.9\n",
      "150 1e-06 None\n",
      "150 0.01 0.6\n",
      "150 0.01 0.9\n",
      "150 0.01 None\n",
      "150 0.3 0.6\n",
      "150 0.3 0.9\n",
      "150 0.3 None\n"
     ]
    }
   ],
   "source": [
    "# Alpha parameter\n",
    "alphaTests = [0.000001,0.01,0.3]\n",
    "\n",
    "# Eta parameter\n",
    "etaTests = [0.6,0.9,None]\n",
    "\n",
    "# num_topics parameter\n",
    "topicsRange = [50,75,100,125,150]\n",
    "\n",
    "tests2Model2 = runTestsModel2(topicsRange,alphaTests,etaTests) # with connections"
   ]
  },
  {
   "cell_type": "markdown",
   "metadata": {},
   "source": [
    "## 2.3. Plot model $Y$ tests results\n",
    "<div id=\"2-3\"></div>\n",
    "The first and most obvious way to study the results from our tests is to plot some graphs. For each graph, the x axis is the number of topics, the y axis is the coherence scores and alpha and eta are fixed. `plotAllCoherenceValuesGraphs()` allows us to plot all the graphs as subplots."
   ]
  },
  {
   "cell_type": "code",
   "execution_count": 216,
   "metadata": {},
   "outputs": [],
   "source": [
    "def plotAllCoherenceValuesGraphs(tests,topicsRange,alphaTests,etaTests):\n",
    "    \"\"\"\n",
    "    plot every possible coherence values graph\n",
    "    (for all values of alpha and eta)\n",
    "    \"\"\"\n",
    "    plt.figure(figsize=(10,10))\n",
    "    couples = []\n",
    "    for topic in topicsRange:\n",
    "        for alpha in alphaTests:\n",
    "            for eta in etaTests:\n",
    "                if testsModel1[topic][alpha][eta] != 0:\n",
    "                    plt.plot(topicsRange, [tests[num][alpha][eta] for num in topicsRange])\n",
    "                    couples.append((str(alpha),str(eta)))\n",
    "                #plotCoherenceValues(tests,topicsRange,alpha,eta)\n",
    "                #if eta == 'symmetric' and alpha == 'symmetric':\n",
    "                #    plotCoherenceValues(tests,topicsRange,-1,-1)\n",
    "                #elif eta == 'symmetric' and alpha == 'asymmetric':\n",
    "                #    plotCoherenceValues(tests,topicsRange,-2,-1)\n",
    "                #elif eta == 'symmetric' and alpha not in ['symmetric','asymmetric']:\n",
    "                #    plotCoherenceValues(tests,topicsRange,alpha,-1)\n",
    "                #elif alpha == 'symmetric' and eta != 'symmetric':\n",
    "                #    plotCoherenceValues(tests,topicsRange,-1,eta)\n",
    "                #elif alpha == 'asymmetric' and eta != 'symmetric':\n",
    "                #    plotCoherenceValues(tests,topicsRange,-2,eta)\n",
    "                #else:\n",
    "                #    plotCoherenceValues(tests,topicsRange,alpha,eta)\n",
    "       \n",
    "    plt.xlabel(\"Number of topics\")\n",
    "    plt.ylabel(\"Coherence score\")\n",
    "    \n",
    "    plt.legend(couples, loc='best')\n",
    "    plt.show()"
   ]
  },
  {
   "cell_type": "code",
   "execution_count": 232,
   "metadata": {},
   "outputs": [],
   "source": [
    "topicsRangeY = [50,75,100,125,150]\n",
    "alphaTestsY = [0.000001,0.01,0.3]\n",
    "etaTestsY = [0.6,0.9,None]"
   ]
  },
  {
   "cell_type": "code",
   "execution_count": 269,
   "metadata": {
    "scrolled": false
   },
   "outputs": [
    {
     "data": {
      "image/png": "[encoded data removed]",
      "text/plain": [
       "<Figure size 720x720 with 1 Axes>"
      ]
     },
     "metadata": {},
     "output_type": "display_data"
    },
    {
     "data": {
      "image/png": "[encoded data removed]",
      "text/plain": [
       "<Figure size 720x720 with 1 Axes>"
      ]
     },
     "metadata": {},
     "output_type": "display_data"
    }
   ],
   "source": [
    "plotAllCoherenceValuesGraphs(tests1Model2,topicsRangeY,alphaTestsY,etaTestsY)\n",
    "plotAllCoherenceValuesGraphs(tests2Model2,topicsRangeY,alphaTestsY,etaTestsY)"
   ]
  },
  {
   "cell_type": "markdown",
   "metadata": {},
   "source": [
    "From these results, we can see that in increase in the number of topics doesn't correlate to a convergence of coherence scores, not very interesting..."
   ]
  },
  {
   "cell_type": "markdown",
   "metadata": {},
   "source": [
    "## 2.4. Decide what values of `alpha` and `eta` to use\n",
    "<div id=\"2-4\"></div>\n",
    "\n",
    "For this we can use the `getAverageCoherenceScores()`, `evaluateAlpha()` and `evaluateEta()` functions used previously for model $X$"
   ]
  },
  {
   "cell_type": "markdown",
   "metadata": {},
   "source": [
    "### Model without users connections:"
   ]
  },
  {
   "cell_type": "code",
   "execution_count": 330,
   "metadata": {},
   "outputs": [
    {
     "data": {
      "text/plain": [
       "[(0.34363069032224924, 1e-06),\n",
       " (0.33979218435160075, 0.01),\n",
       " (0.3315397430988543, 0.3)]"
      ]
     },
     "execution_count": 330,
     "metadata": {},
     "output_type": "execute_result"
    }
   ],
   "source": [
    "evaluateAlpha(tests1Model2,topicsRangeY,alphaTestsY,etaTestsY)"
   ]
  },
  {
   "cell_type": "code",
   "execution_count": 331,
   "metadata": {},
   "outputs": [
    {
     "data": {
      "text/plain": [
       "[(0.3731464368881248, 0.6),\n",
       " (0.3572014479601073, 0.9),\n",
       " (0.2846147329244721, None)]"
      ]
     },
     "execution_count": 331,
     "metadata": {},
     "output_type": "execute_result"
    }
   ],
   "source": [
    "evaluateEta(tests1Model2,topicsRangeY,alphaTestsY,etaTestsY)"
   ]
  },
  {
   "cell_type": "code",
   "execution_count": 333,
   "metadata": {},
   "outputs": [
    {
     "data": {
      "text/plain": [
       "[(0.3812940717661849, (1e-06, 0.6)),\n",
       " (0.3733976450058507, (0.3, 0.6)),\n",
       " (0.36563178118798073, (0.01, 0.9)),\n",
       " (0.3647475938923389, (0.01, 0.6)),\n",
       " (0.35475212122612365, (1e-06, 0.9))]"
      ]
     },
     "execution_count": 333,
     "metadata": {},
     "output_type": "execute_result"
    }
   ],
   "source": [
    "sorted(getAverageCoherenceScores(tests1Model2,topicsRangeY,alphaTestsY,etaTestsY), key=lambda x:x[0],reverse=True)[:5]"
   ]
  },
  {
   "cell_type": "markdown",
   "metadata": {},
   "source": [
    "From these results we can cleary see that the lower `alpha` is, the better. But for `eta` it seems as 0.6 is a good value."
   ]
  },
  {
   "cell_type": "markdown",
   "metadata": {},
   "source": [
    "### Model with users connections:"
   ]
  },
  {
   "cell_type": "code",
   "execution_count": 272,
   "metadata": {},
   "outputs": [
    {
     "data": {
      "text/plain": [
       "[(0.3380446875102829, 1e-06),\n",
       " (0.33004925968496257, 0.01),\n",
       " (0.32732027867048635, 0.3)]"
      ]
     },
     "execution_count": 272,
     "metadata": {},
     "output_type": "execute_result"
    }
   ],
   "source": [
    "evaluateAlpha(tests2Model2,topicsRangeY,alphaTestsY,etaTestsY)"
   ]
  },
  {
   "cell_type": "code",
   "execution_count": 273,
   "metadata": {},
   "outputs": [
    {
     "data": {
      "text/plain": [
       "[(0.36105663729401183, 0.6),\n",
       " (0.3554283649940209, 0.9),\n",
       " (0.2789292235776991, None)]"
      ]
     },
     "execution_count": 273,
     "metadata": {},
     "output_type": "execute_result"
    }
   ],
   "source": [
    "evaluateEta(tests2Model2,topicsRangeY,alphaTestsY,etaTestsY)"
   ]
  },
  {
   "cell_type": "code",
   "execution_count": 274,
   "metadata": {},
   "outputs": [
    {
     "data": {
      "text/plain": [
       "[(0.3666879672583233, (1e-06, 0.6)),\n",
       " (0.3630347136556321, (1e-06, 0.9)),\n",
       " (0.36169400136456925, (0.3, 0.6)),\n",
       " (0.35478794325914287, (0.01, 0.6)),\n",
       " (0.3530891306288345, (0.01, 0.9))]"
      ]
     },
     "execution_count": 274,
     "metadata": {},
     "output_type": "execute_result"
    }
   ],
   "source": [
    "sorted(getAverageCoherenceScores(tests2Model2,topicsRangeY,alphaTestsY,etaTestsY), key=lambda x:x[0],reverse=True)[:5]"
   ]
  },
  {
   "cell_type": "markdown",
   "metadata": {},
   "source": [
    "From these results we can see that the values for `alpha` and `eta` don't make much of a difference. Although, `eta = None` does seem to not perform well."
   ]
  },
  {
   "cell_type": "markdown",
   "metadata": {},
   "source": [
    "# 3. Final comparisons and conclusion\n",
    "<div id=\"3\"></div>"
   ]
  },
  {
   "cell_type": "markdown",
   "metadata": {},
   "source": [
    "### Overall average coherence scores:\n",
    "First let's calculate the average overall coherence score for all three models we have studied:\n",
    " "
   ]
  },
  {
   "cell_type": "code",
   "execution_count": 468,
   "metadata": {},
   "outputs": [],
   "source": [
    "def overallAverageCS(tests):\n",
    "    \"\"\"\n",
    "    calulate overall average coherence score for a set of tests\n",
    "    tests (defaultdict)\n",
    "    \"\"\"\n",
    "    \n",
    "    allVals = []\n",
    "    for t in tests.:\n",
    "        print(t)\n",
    "        for a in tests[t]:\n",
    "            for e in tests[t][a]:\n",
    "                allVals.append(tests[t][a][e])\n",
    "                \n",
    "    flt = list(filter(lambda x:x != 0,allVals))\n",
    "    \n",
    "    return sum(flt)/len(flt)"
   ]
  },
  {
   "cell_type": "markdown",
   "metadata": {},
   "source": [
    "### Model $X$"
   ]
  },
  {
   "cell_type": "code",
   "execution_count": 469,
   "metadata": {},
   "outputs": [
    {
     "name": "stdout",
     "output_type": "stream",
     "text": [
      "50\n",
      "100\n",
      "150\n",
      "145\n",
      "90\n",
      "110\n",
      "0.01\n",
      "0.3\n",
      "0.6\n",
      "0.001\n",
      "-1\n",
      "1e-06\n"
     ]
    },
    {
     "data": {
      "text/plain": [
       "0.33219320984954315"
      ]
     },
     "execution_count": 469,
     "metadata": {},
     "output_type": "execute_result"
    }
   ],
   "source": [
    "overallAverageCS(testsModel1)"
   ]
  },
  {
   "cell_type": "markdown",
   "metadata": {},
   "source": [
    "### Model $Y$ (without connections)"
   ]
  },
  {
   "cell_type": "code",
   "execution_count": 360,
   "metadata": {},
   "outputs": [
    {
     "data": {
      "text/plain": [
       "0.33832087259090143"
      ]
     },
     "execution_count": 360,
     "metadata": {},
     "output_type": "execute_result"
    }
   ],
   "source": [
    "overallAverageCS(tests1Model2)"
   ]
  },
  {
   "cell_type": "markdown",
   "metadata": {},
   "source": [
    "### Model $Y$ (with connections)"
   ]
  },
  {
   "cell_type": "code",
   "execution_count": 361,
   "metadata": {},
   "outputs": [
    {
     "data": {
      "text/plain": [
       "0.33180474195524395"
      ]
     },
     "execution_count": 361,
     "metadata": {},
     "output_type": "execute_result"
    }
   ],
   "source": [
    "overallAverageCS(tests2Model2)"
   ]
  },
  {
   "cell_type": "markdown",
   "metadata": {},
   "source": [
    "There is only a difference on the order of $10^{-2}$ which is pretty insignificant. So of the three models, there isn't much of a difference on average. But remember for model $X$, we perfomed less tests. "
   ]
  },
  {
   "cell_type": "markdown",
   "metadata": {},
   "source": [
    "### Highest coherence scores:\n",
    "Now let's calculate the highest coherence score for all three models we have studied:\n"
   ]
  },
  {
   "cell_type": "code",
   "execution_count": 366,
   "metadata": {},
   "outputs": [],
   "source": [
    "def maxCS(tests):\n",
    "    \"\"\"\n",
    "    calulate overall average coherence score for a set of tests\n",
    "    tests (defaultdict)\n",
    "    \"\"\"\n",
    "    \n",
    "    allVals = []\n",
    "    for t in tests:\n",
    "        for a in tests[t]:\n",
    "            for e in tests[t][a]:\n",
    "                allVals.append(tests[t][a][e])\n",
    "                \n",
    "    flt = list(filter(lambda x:x != 0,allVals))\n",
    "    \n",
    "    return max(flt)"
   ]
  },
  {
   "cell_type": "markdown",
   "metadata": {},
   "source": [
    "### Model $X$"
   ]
  },
  {
   "cell_type": "code",
   "execution_count": 382,
   "metadata": {},
   "outputs": [
    {
     "data": {
      "text/plain": [
       "0.5089198742920636"
      ]
     },
     "execution_count": 382,
     "metadata": {},
     "output_type": "execute_result"
    }
   ],
   "source": [
    "maxCS(testsModel1)"
   ]
  },
  {
   "cell_type": "markdown",
   "metadata": {},
   "source": [
    "### Model $Y$ (without connections)"
   ]
  },
  {
   "cell_type": "code",
   "execution_count": 368,
   "metadata": {},
   "outputs": [
    {
     "data": {
      "text/plain": [
       "0.4226764586381621"
      ]
     },
     "execution_count": 368,
     "metadata": {},
     "output_type": "execute_result"
    }
   ],
   "source": [
    "maxCS(tests1Model2)"
   ]
  },
  {
   "cell_type": "markdown",
   "metadata": {},
   "source": [
    "### Model $Y$ (with connections)"
   ]
  },
  {
   "cell_type": "code",
   "execution_count": 369,
   "metadata": {},
   "outputs": [
    {
     "data": {
      "text/plain": [
       "0.40956212493778565"
      ]
     },
     "execution_count": 369,
     "metadata": {},
     "output_type": "execute_result"
    }
   ],
   "source": [
    "maxCS(tests2Model2)"
   ]
  },
  {
   "cell_type": "markdown",
   "metadata": {},
   "source": [
    "It is clear that here, model $X$ gives the highest coherence score by a significant margin. But maybe if more tests were done for model $Y$, we might have gotten higher than 0.5. We'll never know... "
   ]
  },
  {
   "cell_type": "markdown",
   "metadata": {},
   "source": [
    "But we can be sure on one thing: for all models, it's good to have alpha close to 0 and eta close to 1 (`alpha`$\\sim$ 0.000001 and `eta` $\\sim$ 0.9).\n",
    "\n",
    "As the averages are very similar, that model $X$ gives us the highest coherence score, that there is more data in model $X$, it is safe to conclude that model $X$ will be our general model with `alpha=0.000001` and `eta=0.9`."
   ]
  },
  {
   "cell_type": "code",
   "execution_count": null,
   "metadata": {},
   "outputs": [],
   "source": []
  }
 ],
 "metadata": {
  "kernelspec": {
   "display_name": "Python 3",
   "language": "python",
   "name": "python3"
  },
  "language_info": {
   "codemirror_mode": {
    "name": "ipython",
    "version": 3
   },
   "file_extension": ".py",
   "mimetype": "text/x-python",
   "name": "python",
   "nbconvert_exporter": "python",
   "pygments_lexer": "ipython3",
   "version": "3.6.9"
  }
 },
 "nbformat": 4,
 "nbformat_minor": 2
}
