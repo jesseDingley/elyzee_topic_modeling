{
 "cells": [
  {
   "cell_type": "markdown",
   "metadata": {},
   "source": [
    "# Get all users connections from graph\n",
    "The graph consists of nodes (users) and edges. The edges correspond to connections between users, so a mention (@) or a retweet (RT). The next set of functions allow us to extract all users connections into a dictionary where keys are userID's and values are sets of users connections. We then save this as a JSON file so it can be used in other notebooks. The connections are in the `allUsersConnections` variable."
   ]
  },
  {
   "cell_type": "code",
   "execution_count": 1,
   "metadata": {},
   "outputs": [],
   "source": [
    "import pickle, sys\n",
    "pickle_file = \"/home/pgay/grphclus_stuff/elyzee_communities.pck\" \n",
    "#\"/home/pgay/grphclus4py/data/elyzee_communities.pck\"\n",
    "#\"/home/pgay/go/src/grphclus/elyzee_communities.pck\"\n",
    "data = pickle.load(open(pickle_file, 'rb')) #/home/pgay/twitter/elyzee/storage.pck','rb'))"
   ]
  },
  {
   "cell_type": "code",
   "execution_count": 2,
   "metadata": {},
   "outputs": [],
   "source": [
    "# global var to increase execution speed\n",
    "edgesAsList = list(data['graph'].edges)"
   ]
  },
  {
   "cell_type": "code",
   "execution_count": 3,
   "metadata": {},
   "outputs": [],
   "source": [
    "def getUserConnectionsOptimized(userID):\n",
    "    \"\"\"\n",
    "    get all users that a user (with id 'userID') has either RT or @ (optimized version)\n",
    "    returns a set of other users (doesn't include original user)\n",
    "    \"\"\"\n",
    "    otherUsers = []\n",
    "    lastIndice = len(edgesAsList)-1\n",
    "    for index, edge in enumerate(edgesAsList):\n",
    "        if userID in edge:\n",
    "            idOfInterest = edge[abs(edge.index(userID)-1)]\n",
    "            otherUsers.append(idOfInterest)\n",
    "            if index == lastIndice:\n",
    "                return list(set(otherUsers))\n",
    "                break\n",
    "            if userID not in edgesAsList[index+1] and len(otherUsers) > 1:\n",
    "                return list(set(otherUsers))\n",
    "                break"
   ]
  },
  {
   "cell_type": "code",
   "execution_count": 4,
   "metadata": {},
   "outputs": [],
   "source": [
    "def getAllUsersConnections():\n",
    "    \"\"\"\n",
    "    get all users connections\n",
    "    returns dictionary where keys are userID's and values are sets of userID's connections\n",
    "    \"\"\"\n",
    "    allUsersConnections = {}\n",
    "    for userID in data['graph'].nodes:\n",
    "        allUsersConnections[userID] = getUserConnectionsOptimized(userID)\n",
    "    return allUsersConnections"
   ]
  },
  {
   "cell_type": "code",
   "execution_count": 5,
   "metadata": {},
   "outputs": [],
   "source": [
    "allUsersConnections = getAllUsersConnections()"
   ]
  },
  {
   "cell_type": "markdown",
   "metadata": {},
   "source": [
    "# Save to JSON "
   ]
  },
  {
   "cell_type": "code",
   "execution_count": 6,
   "metadata": {},
   "outputs": [],
   "source": [
    "import json\n",
    "with open('allUsersConnections.json', 'w') as fp:\n",
    "    json.dump(allUsersConnections, fp)"
   ]
  },
  {
   "cell_type": "code",
   "execution_count": null,
   "metadata": {},
   "outputs": [],
   "source": []
  }
 ],
 "metadata": {
  "kernelspec": {
   "display_name": "Python 3",
   "language": "python",
   "name": "python3"
  },
  "language_info": {
   "codemirror_mode": {
    "name": "ipython",
    "version": 3
   },
   "file_extension": ".py",
   "mimetype": "text/x-python",
   "name": "python",
   "nbconvert_exporter": "python",
   "pygments_lexer": "ipython3",
   "version": "3.6.9"
  }
 },
 "nbformat": 4,
 "nbformat_minor": 2
}
