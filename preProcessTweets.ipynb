{
 "cells": [
  {
   "cell_type": "markdown",
   "metadata": {},
   "source": [
    "# Retrieve tweets data set\n",
    "Each tweet has a source (the author), a target (RT/@), a date, semi-cleaned text, full text and id. This next snippet of code extracts all tweets from json file and removes duplicates (1 300 000 -> 800 000 tweets). The tweets are saved in the `jtweets` variable."
   ]
  },
  {
   "cell_type": "code",
   "execution_count": 1,
   "metadata": {},
   "outputs": [],
   "source": [
    "import json"
   ]
  },
  {
   "cell_type": "code",
   "execution_count": 2,
   "metadata": {},
   "outputs": [],
   "source": [
    "# tweet dataset\n",
    "j = json.load(open('/home/pgay/twitter/elyzee/elyzee_decimated_elyzee_temp_edges_only.json'))\n",
    "# keep only tweets and delete duplicates\n",
    "jtweets = [dict(t) for t in {tuple(d.items()) for d in j['edges']}]"
   ]
  },
  {
   "cell_type": "markdown",
   "metadata": {},
   "source": [
    "# Preprocess the tweets\n",
    "Each tweet has a 'txt' key which corresponds to an already preprocessed tweet. But additional preprocessing is required: removing stopwords and numbers, and tokenizing tweet. The new preprocessed tweet is stored in a new key ('txt_pp'). We perform all the preprocessing first in order to save precious runtime later."
   ]
  },
  {
   "cell_type": "code",
   "execution_count": 3,
   "metadata": {},
   "outputs": [],
   "source": [
    "from stop_words import get_stop_words\n",
    "from gensim.parsing.preprocessing import preprocess_string, STOPWORDS"
   ]
  },
  {
   "cell_type": "code",
   "execution_count": 4,
   "metadata": {},
   "outputs": [],
   "source": [
    "def removeNumbersFromTweet(tweet):\n",
    "    \"\"\"\n",
    "    remove numbers from from tokenized semi-cleaned ('txt' key) tweet\n",
    "    returns tokenized tweet\n",
    "    \"\"\"\n",
    "    return [i for i in tweet if not i.isdigit()]"
   ]
  },
  {
   "cell_type": "code",
   "execution_count": 5,
   "metadata": {},
   "outputs": [],
   "source": [
    "def removeStopWords(tweet):\n",
    "    \"\"\"\n",
    "    removes french and english stopwords from tokenized tweet\n",
    "    returns tokenized tweet\n",
    "    \"\"\"\n",
    "    frenchStopWords = get_stop_words('french')\n",
    "    newStopWords = STOPWORDS.union(set(frenchStopWords))\n",
    "    # remove stopwords and word with length less than or equal to 3\n",
    "    return [word.lower() for word in tweet if word not in newStopWords and len(word) not in [1,2,3]]"
   ]
  },
  {
   "cell_type": "code",
   "execution_count": 6,
   "metadata": {},
   "outputs": [],
   "source": [
    "def preProcess(tweet):\n",
    "    \"\"\"\n",
    "    some final preprocessing (remove nbs and spelling mistakes)\n",
    "    returns tokenized preprocessed tweet\n",
    "    \"\"\"\n",
    "    return removeStopWords(removeNumbersFromTweet(tweet.split()))\n",
    "    "
   ]
  },
  {
   "cell_type": "code",
   "execution_count": 7,
   "metadata": {},
   "outputs": [],
   "source": [
    "def preProcessAllTweets(tweets):\n",
    "    \"\"\"\n",
    "    preprocess all tweets\n",
    "    adds key 'txt_pp' to tweets\n",
    "    returns list of tweets (so a list of dict)\n",
    "    \"\"\"\n",
    "    for n in range(len(tweets)):\n",
    "        tweets[n]['txt_pp'] = preProcess(tweets[n]['txt'])\n",
    "    return tweets\n",
    "        "
   ]
  },
  {
   "cell_type": "code",
   "execution_count": 8,
   "metadata": {
    "scrolled": true
   },
   "outputs": [],
   "source": [
    "jtweets = preProcessAllTweets(jtweets)"
   ]
  },
  {
   "cell_type": "markdown",
   "metadata": {},
   "source": [
    "# Save tweets to JSON"
   ]
  },
  {
   "cell_type": "code",
   "execution_count": 9,
   "metadata": {},
   "outputs": [],
   "source": [
    "#save jtweets as json file for other notebooks\n",
    "with open('jtweets.json', 'w') as outfile:\n",
    "    json.dump(jtweets, outfile)"
   ]
  }
 ],
 "metadata": {
  "kernelspec": {
   "display_name": "Python 3",
   "language": "python",
   "name": "python3"
  },
  "language_info": {
   "codemirror_mode": {
    "name": "ipython",
    "version": 3
   },
   "file_extension": ".py",
   "mimetype": "text/x-python",
   "name": "python",
   "nbconvert_exporter": "python",
   "pygments_lexer": "ipython3",
   "version": "3.6.9"
  }
 },
 "nbformat": 4,
 "nbformat_minor": 2
}
